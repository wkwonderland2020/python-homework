{
 "cells": [
  {
   "cell_type": "code",
   "execution_count": 1,
   "id": "60f79c42-ad23-4ca7-aef5-01d5e3792353",
   "metadata": {},
   "outputs": [],
   "source": [
    "import pandas as pd\n"
   ]
  },
  {
   "cell_type": "code",
   "execution_count": 2,
   "id": "7791316b-b3ff-4fd9-971e-66be10c8a80f",
   "metadata": {
    "tags": []
   },
   "outputs": [
    {
     "name": "stdout",
     "output_type": "stream",
     "text": [
      "        Date  Profit/Losses\n",
      "0   Jan-2010         867884\n",
      "1   Feb-2010         984655\n",
      "2   Mar-2010         322013\n",
      "3   Apr-2010         -69417\n",
      "4   May-2010         310503\n",
      "..       ...            ...\n",
      "81  Oct-2016         102685\n",
      "82  Nov-2016         795914\n",
      "83  Dec-2016          60988\n",
      "84  Jan-2017         138230\n",
      "85  Feb-2017         671099\n",
      "\n",
      "[86 rows x 2 columns]\n"
     ]
    }
   ],
   "source": [
    "df = pd.read_csv(\"c:\\\\Users\\\\ikinf\\\\python-homework\\\\PyBank\\\\data1.csv\")\n",
    "\n",
    "print (df)\n"
   ]
  },
  {
   "cell_type": "code",
   "execution_count": 3,
   "id": "09d9df3e-45d7-4b2d-93b9-8ef83269e093",
   "metadata": {
    "tags": []
   },
   "outputs": [
    {
     "name": "stdout",
     "output_type": "stream",
     "text": [
      "86\n"
     ]
    }
   ],
   "source": [
    "total_months = df['Date'].count() \n",
    "print(total_months)\n",
    "    "
   ]
  },
  {
   "cell_type": "code",
   "execution_count": 4,
   "id": "9e45b807-70ce-493a-a5bf-4b2a83ca38db",
   "metadata": {},
   "outputs": [
    {
     "name": "stdout",
     "output_type": "stream",
     "text": [
      "38382578\n"
     ]
    }
   ],
   "source": [
    "total_pnl = df['Profit/Losses'].sum()\n",
    "print (total_pnl)"
   ]
  },
  {
   "cell_type": "code",
   "execution_count": 5,
   "id": "e99a6043-85d0-4266-ab1f-48c84de2c1c3",
   "metadata": {},
   "outputs": [],
   "source": [
    "\n",
    "df['Profit/Losses1'] = df['Profit/Losses'].shift(1)\n",
    "\n",
    "df['difference'] = df['Profit/Losses'] - df['Profit/Losses1']\n",
    "\n",
    "average = df['difference'].mean()\n",
    "maximum = df['difference'].max()\n",
    "minimum = df['difference'].min()\n",
    "\n",
    "max_month = df[df['difference']==df['difference'].max()].iloc[0,0]\n",
    "min_month = df[df['difference']==df['difference'].min()].iloc[0,0]\n",
    "\n",
    "average_round = round(average,2)\n",
    "maximum_round = round(maximum)\n",
    "minimum_round = round(minimum)\n",
    "\n"
   ]
  },
  {
   "cell_type": "code",
   "execution_count": 6,
   "id": "b34ea61a-04f5-4e29-b3fe-22e739cf3af2",
   "metadata": {},
   "outputs": [
    {
     "name": "stdout",
     "output_type": "stream",
     "text": [
      "-2315.12 1926159 -2196167\n"
     ]
    }
   ],
   "source": [
    "print (average_round, maximum_round, minimum_round)"
   ]
  },
  {
   "cell_type": "code",
   "execution_count": 7,
   "id": "418f63ea-bf6a-4a3c-aab6-17174bebd645",
   "metadata": {},
   "outputs": [
    {
     "name": "stdout",
     "output_type": "stream",
     "text": [
      "Feb-2012\n",
      "Sep-2013\n"
     ]
    }
   ],
   "source": [
    "print (max_month)\n",
    "print (min_month)\n",
    "    "
   ]
  },
  {
   "cell_type": "code",
   "execution_count": 10,
   "id": "cf4b0c9a-abb8-4320-b445-f792b9bbe6f1",
   "metadata": {},
   "outputs": [
    {
     "name": "stdout",
     "output_type": "stream",
     "text": [
      " Financial Analysis\n",
      "-----------------------------------\n",
      "Total Months:  86\n",
      "Total:  38382578\n",
      "Average Change: $ -2315.12\n",
      "Greatest Increase in Profits:  Feb-2012 ($ 1926159 )\n",
      "Greatest Decrease in Profits:  Sep-2013 ($ -2196167 )\n"
     ]
    }
   ],
   "source": [
    "print (\"Financial Analysis\")\n",
    "print (\"-----------------------------------\")\n",
    "print (f\"Total Months: \", total_months)\n",
    "print (f\"Total: \", total_pnl)\n",
    "print (f\"Average Change: $\", average_round)\n",
    "print (f\"Greatest Increase in Profits: \", max_month, \"($\",maximum_round,\")\")\n",
    "print (f\"Greatest Decrease in Profits: \", min_month, \"($\",minimum_round,\")\")\n"
   ]
  },
  {
   "cell_type": "code",
   "execution_count": null,
   "id": "99e8171d-d59f-4401-9034-688bb0e2d50d",
   "metadata": {},
   "outputs": [],
   "source": []
  }
 ],
 "metadata": {
  "kernelspec": {
   "display_name": "Python 3",
   "language": "python",
   "name": "python3"
  },
  "language_info": {
   "codemirror_mode": {
    "name": "ipython",
    "version": 3
   },
   "file_extension": ".py",
   "mimetype": "text/x-python",
   "name": "python",
   "nbconvert_exporter": "python",
   "pygments_lexer": "ipython3",
   "version": "3.8.5"
  }
 },
 "nbformat": 4,
 "nbformat_minor": 5
}
